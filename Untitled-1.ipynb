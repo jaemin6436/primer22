{
 "cells": [
  {
   "cell_type": "code",
   "execution_count": 1,
   "metadata": {},
   "outputs": [
    {
     "name": "stdout",
     "output_type": "stream",
     "text": [
      "Counter({'T': 21, 'A': 20, 'G': 17, 'C': 12})\n"
     ]
    }
   ],
   "source": [
    "dna = \"AGCTTTTCATTCTGACTGCAACGGGCAATATGTCTCTGTGTGGATTAAAAAAAGAGTGTCTGATAGCAGC\"\n",
    "\n",
    "from collections import Counter\n",
    "\n",
    "cntng = Counter(dna)\n",
    "print(cntng)"
   ]
  },
  {
   "cell_type": "code",
   "execution_count": 9,
   "metadata": {},
   "outputs": [
    {
     "data": {
      "text/plain": [
       "[20, 12, 17, 21]"
      ]
     },
     "execution_count": 9,
     "metadata": {},
     "output_type": "execute_result"
    }
   ],
   "source": [
    "data = \"AGCTTTTCATTCTGACTGCAACGGGCAATATGTCTCTGTGTGGATTAAAAAAAGAGTGTCTGATAGCAGC\"\n",
    "\n",
    "def counting(dna):\n",
    "    num_A = 0\n",
    "    num_C = 0\n",
    "    num_G = 0\n",
    "    num_T = 0\n",
    "    for char in dna:\n",
    "        if char == ('A'):\n",
    "            num_A = num_A + 1\n",
    "        elif char == ('T'):\n",
    "            num_T = num_T + 1\n",
    "        elif char == ('G'):\n",
    "            num_G = num_G + 1\n",
    "        elif char == ('C'):\n",
    "            num_C = num_C + 1\n",
    "    out = [num_A, num_C, num_G, num_T]\n",
    "    return out \n",
    "    \n",
    "counting(data)"
   ]
  }
 ],
 "metadata": {
  "interpreter": {
   "hash": "0571e43f3fa6bd0e275a60a24bbc5cd9a6d2f1a41c776a5be1be3cb829ccfa42"
  },
  "kernelspec": {
   "display_name": "Python 3.8.2 32-bit",
   "language": "python",
   "name": "python3"
  },
  "language_info": {
   "codemirror_mode": {
    "name": "ipython",
    "version": 3
   },
   "file_extension": ".py",
   "mimetype": "text/x-python",
   "name": "python",
   "nbconvert_exporter": "python",
   "pygments_lexer": "ipython3",
   "version": "3.8.2"
  },
  "orig_nbformat": 4
 },
 "nbformat": 4,
 "nbformat_minor": 2
}
